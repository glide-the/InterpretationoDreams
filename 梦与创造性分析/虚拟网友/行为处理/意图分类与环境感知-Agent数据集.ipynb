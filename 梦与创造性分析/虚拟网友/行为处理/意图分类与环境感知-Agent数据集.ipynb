{
 "cells": [
  {
   "cell_type": "code",
   "execution_count": 8,
   "id": "fbcce389-86d1-448f-b7e5-4e80436507ca",
   "metadata": {},
   "outputs": [
    {
     "name": "stderr",
     "output_type": "stream",
     "text": [
      "Saving the dataset (1/1 shards): 100%|█████████████████████████████████████████████████████████████████████████████████████████████████████████████████████████████████████████████████████| 195/195 [00:00<00:00, 72029.00 examples/s]\n",
      "Saving the dataset (1/1 shards): 100%|████████████████████████████████████████████████████████████████████████████████████████████████████████████████████████████████████████████████████| 538/538 [00:00<00:00, 189147.99 examples/s]\n",
      "Saving the dataset (1/1 shards): 100%|█████████████████████████████████████████████████████████████████████████████████████████████████████████████████████████████████████████████████████| 336/336 [00:00<00:00, 86837.52 examples/s]\n",
      "Saving the dataset (1/1 shards): 100%|████████████████████████████████████████████████████████████████████████████████████████████████████████████████████████████████████████████████████| 351/351 [00:00<00:00, 121780.19 examples/s]\n",
      "Saving the dataset (1/1 shards): 100%|████████████████████████████████████████████████████████████████████████████████████████████████████████████████████████████████████████████████████| 324/324 [00:00<00:00, 103044.78 examples/s]\n",
      "Saving the dataset (1/1 shards): 100%|█████████████████████████████████████████████████████████████████████████████████████████████████████████████████████████████████████████████████████| 122/122 [00:00<00:00, 47362.56 examples/s]\n"
     ]
    }
   ],
   "source": [
    "from datasets import load_dataset\n",
    "ds = load_dataset(\"THUDM/AgentInstruct\")\n",
    "ds.save_to_disk(\"dataset/AgentInstruct/\")"
   ]
  },
  {
   "cell_type": "code",
   "execution_count": null,
   "id": "fd66870f-5b82-4563-b4ed-22e56e89e555",
   "metadata": {},
   "outputs": [],
   "source": []
  },
  {
   "cell_type": "code",
   "execution_count": 9,
   "id": "3afff00f-a1de-4abd-ae9f-2efa989c46a2",
   "metadata": {},
   "outputs": [],
   "source": [
    "from datasets import load_from_disk\n",
    "# 加载本地数据集\n",
    "local_dataset = load_from_disk(\"dataset/AgentInstruct/\")"
   ]
  },
  {
   "cell_type": "code",
   "execution_count": 10,
   "id": "df57a1e3-f456-4d3f-8c92-65382eab6357",
   "metadata": {},
   "outputs": [
    {
     "data": {
      "text/plain": [
       "DatasetDict({\n",
       "    os: Dataset({\n",
       "        features: ['conversations', 'id'],\n",
       "        num_rows: 195\n",
       "    })\n",
       "    db: Dataset({\n",
       "        features: ['conversations', 'id'],\n",
       "        num_rows: 538\n",
       "    })\n",
       "    alfworld: Dataset({\n",
       "        features: ['conversations', 'id'],\n",
       "        num_rows: 336\n",
       "    })\n",
       "    webshop: Dataset({\n",
       "        features: ['conversations', 'id'],\n",
       "        num_rows: 351\n",
       "    })\n",
       "    kg: Dataset({\n",
       "        features: ['conversations', 'id'],\n",
       "        num_rows: 324\n",
       "    })\n",
       "    mind2web: Dataset({\n",
       "        features: ['conversations', 'id'],\n",
       "        num_rows: 122\n",
       "    })\n",
       "})"
      ]
     },
     "execution_count": 10,
     "metadata": {},
     "output_type": "execute_result"
    }
   ],
   "source": [
    "local_dataset"
   ]
  },
  {
   "cell_type": "code",
   "execution_count": null,
   "id": "c6010760-f671-4faf-a159-2a55f4dfa984",
   "metadata": {},
   "outputs": [],
   "source": []
  }
 ],
 "metadata": {
  "kernelspec": {
   "display_name": "Python 3 (ipykernel)",
   "language": "python",
   "name": "python3"
  },
  "language_info": {
   "codemirror_mode": {
    "name": "ipython",
    "version": 3
   },
   "file_extension": ".py",
   "mimetype": "text/x-python",
   "name": "python",
   "nbconvert_exporter": "python",
   "pygments_lexer": "ipython3",
   "version": "3.10.9"
  }
 },
 "nbformat": 4,
 "nbformat_minor": 5
}
