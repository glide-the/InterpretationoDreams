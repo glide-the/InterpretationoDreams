{
 "cells": [
  {
   "cell_type": "code",
   "execution_count": 2,
   "id": "9179db57-de2c-458d-888b-bdc9e8b995ba",
   "metadata": {},
   "outputs": [],
   "source": [
    "from langchain.vectorstores import ElasticsearchStore\n",
    "from langchain.embeddings.openai import OpenAIEmbeddings\n",
    "\n",
    "from elasticsearch import Elasticsearch\n"
   ]
  },
  {
   "cell_type": "code",
   "execution_count": null,
   "id": "6f08961b-cb7a-4869-b26f-0bfba2b3d1e8",
   "metadata": {},
   "outputs": [],
   "source": [
    "\n",
    "es_connection = Elasticsearch(\"http://localhost:9200\")\n",
    "\n"
   ]
  },
  {
   "cell_type": "code",
   "execution_count": null,
   "id": "fcc39a8a-23a1-4125-abd7-0edeffbd765b",
   "metadata": {},
   "outputs": [],
   "source": [
    "vectorstore = ElasticsearchStore(\n",
    "    embedding=OpenAIEmbeddings(),\n",
    "    index_name=\"langchain-demo\",\n",
    "    es_connection=es_connection\n",
    ")"
   ]
  }
 ],
 "metadata": {
  "kernelspec": {
   "display_name": "Python 3 (ipykernel)",
   "language": "python",
   "name": "python3"
  },
  "language_info": {
   "codemirror_mode": {
    "name": "ipython",
    "version": 3
   },
   "file_extension": ".py",
   "mimetype": "text/x-python",
   "name": "python",
   "nbconvert_exporter": "python",
   "pygments_lexer": "ipython3",
   "version": "3.10.9"
  }
 },
 "nbformat": 4,
 "nbformat_minor": 5
}
